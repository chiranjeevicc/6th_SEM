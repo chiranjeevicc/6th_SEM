{
 "metadata": {
  "language_info": {
   "codemirror_mode": {
    "name": "ipython",
    "version": 3
   },
   "file_extension": ".py",
   "mimetype": "text/x-python",
   "name": "python",
   "nbconvert_exporter": "python",
   "pygments_lexer": "ipython3",
   "version": "3.9.1-final"
  },
  "orig_nbformat": 2,
  "kernelspec": {
   "name": "python3",
   "display_name": "Python 3.9.1 64-bit",
   "metadata": {
    "interpreter": {
     "hash": "e922dd073470bdcc017ae3abd31d6491d6ed7bf31c1d559806e5511bfea88b81"
    }
   }
  }
 },
 "nbformat": 4,
 "nbformat_minor": 2,
 "cells": [
  {
   "cell_type": "code",
   "execution_count": 3,
   "metadata": {},
   "outputs": [
    {
     "output_type": "stream",
     "name": "stdout",
     "text": [
      "  Weather Temperature Humidity    Wind Goes\n0   Sunny        Warm     Mild  Strong  Yes\n1  Rainy        Cold      Mild  Normal   No\n2   Sunny   Moderate    Normal  Normal  Yes\n3   Sunny       Cold      High  Strong  Yes \n\n\n The attributes are:  [['Sunny' 'Warm' 'Mild' 'Strong']\n ['Rainy ' 'Cold ' 'Mild' 'Normal']\n ['Sunny' 'Moderate ' 'Normal' 'Normal']\n ['Sunny' 'Cold ' 'High' 'Strong']]\n\n The target is:  ['Yes' 'No' 'Yes' 'Yes']\n\n The final hypothesis is: ['Sunny' '?' '?' '?']\n"
     ]
    }
   ],
   "source": [
    "import pandas as pd\n",
    "import numpy as np\n",
    " \n",
    "\n",
    "data = pd.read_csv(\"E:/6th Sem BMS/ML_Lab/FindS.csv\")\n",
    "print(data,\"\\n\")\n",
    " \n",
    "#array of all the attributes\n",
    "d = np.array(data)[:,:-1]\n",
    "print(\"\\n The attributes are: \",d)\n",
    " \n",
    "target = np.array(data)[:,-1]\n",
    "print(\"\\n The target is: \",target)\n",
    " \n",
    "def findS(c,t):\n",
    "    for i, val in enumerate(t):\n",
    "        if val == \"Yes\":\n",
    "            specific_hypothesis = c[i].copy()\n",
    "            break\n",
    "             \n",
    "    for i, val in enumerate(c):\n",
    "        if t[i] == \"Yes\":\n",
    "            for x in range(len(specific_hypothesis)):\n",
    "                if val[x] != specific_hypothesis[x]:\n",
    "                    specific_hypothesis[x] = '?'\n",
    "                else:\n",
    "                    pass\n",
    "                 \n",
    "    return specific_hypothesis\n",
    " \n",
    "print(\"\\n The final hypothesis is:\",findS(d,target))"
   ]
  }
 ]
}