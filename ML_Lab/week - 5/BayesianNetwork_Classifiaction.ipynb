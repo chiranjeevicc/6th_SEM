{
 "metadata": {
  "language_info": {
   "codemirror_mode": {
    "name": "ipython",
    "version": 3
   },
   "file_extension": ".py",
   "mimetype": "text/x-python",
   "name": "python",
   "nbconvert_exporter": "python",
   "pygments_lexer": "ipython3",
   "version": "3.9.1"
  },
  "orig_nbformat": 2,
  "kernelspec": {
   "name": "python3",
   "display_name": "Python 3.9.1 64-bit",
   "metadata": {
    "interpreter": {
     "hash": "24048fa24d0f5c48967985899493b6a711e58e6be037c77c1298cde433d1f4d1"
    }
   }
  }
 },
 "nbformat": 4,
 "nbformat_minor": 2,
 "cells": [
  {
   "cell_type": "code",
   "execution_count": 1,
   "metadata": {},
   "outputs": [
    {
     "output_type": "stream",
     "name": "stdout",
     "text": [
      "Collecting pgmpy\n",
      "  Downloading pgmpy-0.1.14-py3-none-any.whl (331 kB)\n",
      "Collecting networkx\n",
      "  Downloading networkx-2.5.1-py3-none-any.whl (1.6 MB)\n",
      "Requirement already satisfied: joblib in c:\\python\\lib\\site-packages (from pgmpy) (1.0.1)\n",
      "Requirement already satisfied: pyparsing in c:\\python\\lib\\site-packages (from pgmpy) (2.4.7)\n",
      "Requirement already satisfied: pandas in c:\\python\\lib\\site-packages (from pgmpy) (1.2.3)\n",
      "Requirement already satisfied: scikit-learn in c:\\python\\lib\\site-packages (from pgmpy) (0.24.1)\n",
      "Requirement already satisfied: numpy in c:\\python\\lib\\site-packages (from pgmpy) (1.20.2)\n",
      "Collecting torch\n",
      "  Downloading torch-1.8.1-cp39-cp39-win_amd64.whl (190.5 MB)\n",
      "Requirement already satisfied: scipy in c:\\python\\lib\\site-packages (from pgmpy) (1.6.2)\n",
      "Collecting tqdm\n",
      "  Downloading tqdm-4.60.0-py2.py3-none-any.whl (75 kB)\n",
      "Collecting statsmodels\n",
      "  Downloading statsmodels-0.12.2-cp39-none-win_amd64.whl (9.4 MB)\n",
      "Requirement already satisfied: decorator<5,>=4.3 in c:\\users\\lenovo\\appdata\\roaming\\python\\python39\\site-packages (from networkx->pgmpy) (4.4.2)\n",
      "Requirement already satisfied: python-dateutil>=2.7.3 in c:\\users\\lenovo\\appdata\\roaming\\python\\python39\\site-packages (from pandas->pgmpy) (2.8.1)\n",
      "Requirement already satisfied: pytz>=2017.3 in c:\\python\\lib\\site-packages (from pandas->pgmpy) (2021.1)\n",
      "Requirement already satisfied: six>=1.5 in c:\\users\\lenovo\\appdata\\roaming\\python\\python39\\site-packages (from python-dateutil>=2.7.3->pandas->pgmpy) (1.15.0)\n",
      "Requirement already satisfied: threadpoolctl>=2.0.0 in c:\\python\\lib\\site-packages (from scikit-learn->pgmpy) (2.1.0)\n",
      "Collecting patsy>=0.5\n",
      "  Downloading patsy-0.5.1-py2.py3-none-any.whl (231 kB)\n",
      "Collecting typing-extensions\n",
      "  Downloading typing_extensions-3.10.0.0-py3-none-any.whl (26 kB)\n",
      "Installing collected packages: typing-extensions, patsy, tqdm, torch, statsmodels, networkx, pgmpy\n",
      "Successfully installed networkx-2.5.1 patsy-0.5.1 pgmpy-0.1.14 statsmodels-0.12.2 torch-1.8.1 tqdm-4.60.0 typing-extensions-3.10.0.0\n",
      "WARNING: Value for scheme.headers does not match. Please report this to <https://github.com/pypa/pip/issues/9617>\n",
      "distutils: c:\\python\\Include\\UNKNOWN\n",
      "sysconfig: c:\\python\\Include\n",
      "WARNING: Additional context:\n",
      "user = False\n",
      "home = None\n",
      "root = None\n",
      "prefix = None\n",
      "WARNING: Value for scheme.headers does not match. Please report this to <https://github.com/pypa/pip/issues/9617>\n",
      "distutils: c:\\python\\Include\\UNKNOWN\n",
      "sysconfig: c:\\python\\Include\n",
      "WARNING: Additional context:\n",
      "user = False\n",
      "home = None\n",
      "root = None\n",
      "prefix = None\n"
     ]
    }
   ],
   "source": [
    "!pip install pgmpy\n"
   ]
  },
  {
   "cell_type": "code",
   "execution_count": 2,
   "metadata": {},
   "outputs": [],
   "source": [
    "import numpy as np\n",
    "import pandas as pd\n",
    "import csv \n",
    "from pgmpy.estimators import MaximumLikelihoodEstimator\n",
    "from pgmpy.models import BayesianModel\n",
    "from pgmpy.inference import VariableElimination"
   ]
  },
  {
   "cell_type": "code",
   "execution_count": 3,
   "metadata": {},
   "outputs": [
    {
     "output_type": "stream",
     "name": "stdout",
     "text": [
      "Sample instances from the dataset are given below\n",
      "   age  sex  cp  trestbps  chol  fbs  restecg  thalach  exang  oldpeak  slope  \\\n",
      "0   63    1   1       145   233    1        2      150      0      2.3      3   \n",
      "1   67    1   4       160   286    0        2      108      1      1.5      2   \n",
      "2   67    1   4       120   229    0        2      129      1      2.6      2   \n",
      "3   37    1   3       130   250    0        0      187      0      3.5      3   \n",
      "4   41    0   2       130   204    0        2      172      0      1.4      1   \n",
      "\n",
      "  ca thal  Heartdisease  \n",
      "0  0    6             0  \n",
      "1  3    3             2  \n",
      "2  2    7             1  \n",
      "3  0    3             0  \n",
      "4  0    3             0  \n",
      "\n",
      " Attributes and datatypes\n",
      "age               int64\n",
      "sex               int64\n",
      "cp                int64\n",
      "trestbps          int64\n",
      "chol              int64\n",
      "fbs               int64\n",
      "restecg           int64\n",
      "thalach           int64\n",
      "exang             int64\n",
      "oldpeak         float64\n",
      "slope             int64\n",
      "ca               object\n",
      "thal             object\n",
      "Heartdisease      int64\n",
      "dtype: object\n"
     ]
    }
   ],
   "source": [
    "\n",
    "heartDisease = pd.read_csv('E:/6th Sem BMS/ML_Lab/week -5/heart_disease.csv')\n",
    "heartDisease = heartDisease.replace('?',np.nan)\n",
    "\n",
    "print('Sample instances from the dataset are given below')\n",
    "print(heartDisease.head())\n",
    "\n",
    "print('\\n Attributes and datatypes')\n",
    "print(heartDisease.dtypes)"
   ]
  },
  {
   "cell_type": "code",
   "execution_count": 4,
   "metadata": {},
   "outputs": [
    {
     "output_type": "stream",
     "name": "stdout",
     "text": [
      "\nLearning CPD using Maximum likelihood estimators\n"
     ]
    }
   ],
   "source": [
    "\n",
    "model= BayesianModel([('age','Heartdisease'),('sex','Heartdisease'),('exang','Heartdisease'),('cp','Heartdisease'),('Heartdisease','restecg'),('Heartdisease','chol')])\n",
    "print('\\nLearning CPD using Maximum likelihood estimators')\n",
    "model.fit(heartDisease,estimator=MaximumLikelihoodEstimator)"
   ]
  },
  {
   "cell_type": "code",
   "execution_count": 5,
   "metadata": {},
   "outputs": [
    {
     "output_type": "stream",
     "name": "stderr",
     "text": [
      "Finding Elimination Order: :   0%|          | 0/5 [00:00<?, ?it/s]\n",
      "  0%|          | 0/5 [00:00<?, ?it/s]\u001b[A\n",
      "Eliminating: age:   0%|          | 0/5 [00:00<?, ?it/s]\u001b[A\n",
      "Eliminating: exang:   0%|          | 0/5 [00:00<?, ?it/s]\u001b[A\n",
      "Eliminating: cp:   0%|          | 0/5 [00:00<?, ?it/s]   \n",
      " Inferencing with Bayesian Network:\n",
      "\n",
      " 1. Probability of HeartDisease given evidence= restecg\n",
      "\u001b[A\n",
      "Eliminating: chol:   0%|          | 0/5 [00:00<?, ?it/s]\u001b[A\n",
      "Eliminating: sex: 100%|██████████| 5/5 [00:00<00:00, 58.98it/s]\n",
      "Finding Elimination Order: : 100%|██████████| 5/5 [00:00<00:00, 22.18it/s]\n",
      "+-----------------+---------------------+\n",
      "| Heartdisease    |   phi(Heartdisease) |\n",
      "+=================+=====================+\n",
      "| Heartdisease(0) |              0.1012 |\n",
      "+-----------------+---------------------+\n",
      "| Heartdisease(1) |              0.0000 |\n",
      "+-----------------+---------------------+\n",
      "| Heartdisease(2) |              0.2392 |\n",
      "+-----------------+---------------------+\n",
      "| Heartdisease(3) |              0.2015 |\n",
      "+-----------------+---------------------+\n",
      "| Heartdisease(4) |              0.4581 |\n",
      "+-----------------+---------------------+\n",
      "\n",
      " 2. Probability of HeartDisease given evidence= cp \n",
      "Finding Elimination Order: :   0%|          | 0/5 [00:00<?, ?it/s]\n",
      "  0%|          | 0/5 [00:00<?, ?it/s]\u001b[A\n",
      "Eliminating: restecg:   0%|          | 0/5 [00:00<?, ?it/s]\u001b[A\n",
      "Eliminating: age:   0%|          | 0/5 [00:00<?, ?it/s]    \u001b[A\n",
      "Eliminating: exang:   0%|          | 0/5 [00:00<?, ?it/s]\u001b[A\n",
      "Eliminating: chol:   0%|          | 0/5 [00:00<?, ?it/s] \u001b[A\n",
      "Eliminating: sex: 100%|██████████| 5/5 [00:00<00:00, 75.96it/s]+-----------------+---------------------+\n",
      "| Heartdisease    |   phi(Heartdisease) |\n",
      "+=================+=====================+\n",
      "| Heartdisease(0) |              0.3610 |\n",
      "+-----------------+---------------------+\n",
      "| Heartdisease(1) |              0.2159 |\n",
      "+-----------------+---------------------+\n",
      "| Heartdisease(2) |              0.1373 |\n",
      "+-----------------+---------------------+\n",
      "| Heartdisease(3) |              0.1537 |\n",
      "+-----------------+---------------------+\n",
      "| Heartdisease(4) |              0.1321 |\n",
      "+-----------------+---------------------+\n",
      "\n"
     ]
    }
   ],
   "source": [
    "\n",
    "print('\\n Inferencing with Bayesian Network:')\n",
    "HeartDiseasetest_infer = VariableElimination(model)\n",
    "\n",
    "print('\\n 1. Probability of HeartDisease given evidence= restecg')\n",
    "q1=HeartDiseasetest_infer.query(variables=['Heartdisease'],evidence={'restecg':1})\n",
    "print(q1)\n",
    "\n",
    "print('\\n 2. Probability of HeartDisease given evidence= cp ')\n",
    "q2=HeartDiseasetest_infer.query(variables=['Heartdisease'],evidence={'cp':2})\n",
    "print(q2)"
   ]
  },
  {
   "cell_type": "code",
   "execution_count": null,
   "metadata": {},
   "outputs": [],
   "source": []
  }
 ]
}